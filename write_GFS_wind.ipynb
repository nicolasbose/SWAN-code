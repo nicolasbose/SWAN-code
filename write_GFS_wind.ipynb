{
 "cells": [
  {
   "cell_type": "code",
   "execution_count": 1,
   "metadata": {},
   "outputs": [
    {
     "name": "stderr",
     "output_type": "stream",
     "text": [
      "/Users/nicolasdeassisbose/anaconda3/lib/python3.6/site-packages/dask/config.py:131: YAMLLoadWarning: calling yaml.load() without Loader=... is deprecated, as the default Loader is unsafe. Please read https://msg.pyyaml.org/load for full details.\n",
      "  data = yaml.load(f.read()) or {}\n"
     ]
    }
   ],
   "source": [
    "import numpy as np\n",
    "import pygrib\n",
    "import matplotlib.pyplot as plt\n",
    "import xarray as xr\n",
    "import os, glob\n",
    "import Nio\n",
    "from scipy.io import loadmat\n",
    "import pandas as pd \n",
    "import datetime"
   ]
  },
  {
   "cell_type": "code",
   "execution_count": 2,
   "metadata": {},
   "outputs": [
    {
     "name": "stdout",
     "output_type": "stream",
     "text": [
      "/Users/nicolasdeassisbose/Desktop/codigo_artigo/ww3_parameters\n"
     ]
    }
   ],
   "source": [
    "# Open WIND GFS data\n",
    "\n",
    "%cd /Users/nicolasdeassisbose/Desktop/codigo_artigo/ww3_parameters\n",
    "\n",
    "path_hs = sorted(glob.glob(os.path.join('multi_1.glo_30m.wind*.grb2')))\n",
    "\n",
    "pr1_wind = xr.open_dataset(path_hs[0], engine = 'pynio')\n",
    "pr2_wind = xr.open_dataset(path_hs[1], engine = 'pynio')\n",
    "#pr3_hs = xr.open_dataset(path_hs[2], engine = 'pynio')\n",
    "#pr4_hs = xr.open_dataset(path_hs[3], engine = 'pynio')\n",
    "#pr5_hs = xr.open_dataset(path_hs[4], engine = 'pynio')\n",
    "#pr6_hs = xr.open_dataset(path_hs[5], engine = 'pynio')\n",
    "#pr7_hs = xr.open_dataset(path_hs[6], engine = 'pynio')\n",
    "#pr8_hs = xr.open_dataset(path_hs[7], engine = 'pynio')\n",
    "#pr9_hs = xr.open_dataset(path_hs[8], engine = 'pynio')\n",
    "#pr10_hs = xr.open_dataset(path_hs[9], engine = 'pynio')\n",
    "#pr11_hs = xr.open_dataset(path_hs[10], engine = 'pynio')\n",
    "#pr12_hs = xr.open_dataset(path_hs[11], engine = 'pynio')"
   ]
  },
  {
   "cell_type": "code",
   "execution_count": 58,
   "metadata": {},
   "outputs": [],
   "source": [
    "# GFS wind coordinate\n",
    "\n",
    "lat_pr1 = pr1_wind['lat_0'].values\n",
    "lon_pr1 = pr1_wind['lon_0'].values-360"
   ]
  },
  {
   "cell_type": "code",
   "execution_count": 86,
   "metadata": {},
   "outputs": [],
   "source": [
    "# SWAN GRID format\n",
    "\n",
    "lat_i, = np.where(lat_pr1 == -22)\n",
    "lat_f, = np.where(lat_pr1 == -40)\n",
    "\n",
    "lon_i, = np.where(lon_pr1 == -65)\n",
    "lon_f, = np.where(lon_pr1 == -44)"
   ]
  },
  {
   "cell_type": "code",
   "execution_count": 87,
   "metadata": {},
   "outputs": [],
   "source": [
    "## Regular Grid coordinate for swan wave model\n",
    "\n",
    "lon = lon_pr1[int(lon_i):int(lon_f)]\n",
    "lat = lat_pr1[int(lat_i):int(lat_f)]"
   ]
  },
  {
   "cell_type": "code",
   "execution_count": 92,
   "metadata": {},
   "outputs": [],
   "source": [
    "# Extract Wind data\n",
    "\n",
    "u1 = pr1_wind['UGRD_P0_L1_GLL0'].values\n",
    "v1 = pr1_wind['VGRD_P0_L1_GLL0'].values\n",
    "U1 = u1[:,int(lat_i):int(lat_f),int(lon_i):int(lon_f)]\n",
    "V1 = v1[:,int(lat_i):int(lat_f),int(lon_i):int(lon_f)]\n",
    "\n",
    "\n",
    "u2 = pr2_wind['UGRD_P0_L1_GLL0'].values\n",
    "v2 = pr2_wind['VGRD_P0_L1_GLL0'].values\n",
    "U2 = u2[:,int(lat_i):int(lat_f),int(lon_i):int(lon_f)]\n",
    "V2 = v2[:,int(lat_i):int(lat_f),int(lon_i):int(lon_f)]\n",
    "\n",
    "#u3 = pr3_wind['UGRD_P0_L1_GLL0'].values\n",
    "#v3 = pr3_wind['VGRD_P0_L1_GLL0'].values\n",
    "#U3 = u3[:,int(lat_i):int(lat_f),int(lon_i):int(lon_f)]\n",
    "#V3 = v3[:,int(lat_i):int(lat_f),int(lon_i):int(lon_f)]\n",
    "\n",
    "#u4 = pr4_wind['UGRD_P0_L1_GLL0'].values\n",
    "#v4 = pr4_wind['VGRD_P0_L1_GLL0'].values\n",
    "#U4 = u4[:,int(lat_i):int(lat_f),int(lon_i):int(lon_f)]\n",
    "#V4 = v4[:,int(lat_i):int(lat_f),int(lon_i):int(lon_f)]\n",
    "\n",
    "#u5 = pr5_wind['UGRD_P0_L1_GLL0'].values\n",
    "#v5 = pr5_wind['VGRD_P0_L1_GLL0'].values\n",
    "#U5 = u5[:,int(lat_i):int(lat_f),int(lon_i):int(lon_f)]\n",
    "#V5 = v5[:,int(lat_i):int(lat_f),int(lon_i):int(lon_f)]\n",
    "\n",
    "#u6 = pr6_wind['UGRD_P0_L1_GLL0'].values\n",
    "#v6 = pr6_wind['VGRD_P0_L1_GLL0'].values\n",
    "#U6 = u6[:,int(lat_i):int(lat_f),int(lon_i):int(lon_f)]\n",
    "#V6 = v6[:,int(lat_i):int(lat_f),int(lon_i):int(lon_f)]\n",
    "\n",
    "#u7 = pr7_wind['UGRD_P0_L1_GLL0'].values\n",
    "#v7 = pr7_wind['VGRD_P0_L1_GLL0'].values\n",
    "#U7 = u7[:,int(lat_i):int(lat_f),int(lon_i):int(lon_f)]\n",
    "#V7 = v7[:,int(lat_i):int(lat_f),int(lon_i):int(lon_f)]\n",
    "\n",
    "#u8 = pr8_wind['UGRD_P0_L1_GLL0'].values\n",
    "#v8 = pr8_wind['VGRD_P0_L1_GLL0'].values\n",
    "#U8 = u8[:,int(lat_i):int(lat_f),int(lon_i):int(lon_f)]\n",
    "#V8 = v8[:,int(lat_i):int(lat_f),int(lon_i):int(lon_f)]\n",
    "\n",
    "#u9 = pr9_wind['UGRD_P0_L1_GLL0'].values\n",
    "#v9 = pr9_wind['VGRD_P0_L1_GLL0'].values\n",
    "#U9 = u9[:,int(lat_i):int(lat_f),int(lon_i):int(lon_f)]\n",
    "#V9 = v9[:,int(lat_i):int(lat_f),int(lon_i):int(lon_f)]\n",
    "\n",
    "#u10 = pr10_wind['UGRD_P0_L1_GLL0'].values\n",
    "#v10 = pr10_wind['VGRD_P0_L1_GLL0'].values\n",
    "#U10 = u10[:,int(lat_i):int(lat_f),int(lon_i):int(lon_f)]\n",
    "#V10 = v10[:,int(lat_i):int(lat_f),int(lon_i):int(lon_f)]\n",
    "\n",
    "#u11 = pr11_wind['UGRD_P0_L1_GLL0'].values\n",
    "#v11 = pr11_wind['VGRD_P0_L1_GLL0'].values\n",
    "#U11 = u11[:,int(lat_i):int(lat_f),int(lon_i):int(lon_f)]\n",
    "#V11 = v11[:,int(lat_i):int(lat_f),int(lon_i):int(lon_f)]\n",
    "\n",
    "#u12 = pr12_wind['UGRD_P0_L1_GLL0'].values\n",
    "#v12 = pr12_wind['VGRD_P0_L1_GLL0'].values\n",
    "#U12 = u12[:,int(lat_i):int(lat_f),int(lon_i):int(lon_f)]\n",
    "#V12 = v12[:,int(lat_i):int(lat_f),int(lon_i):int(lon_f)]\n"
   ]
  },
  {
   "cell_type": "code",
   "execution_count": 94,
   "metadata": {},
   "outputs": [],
   "source": [
    "# Time period \n",
    "\n",
    "time_0 = '20150101' \n",
    "time_end = '20150228 21:00:00'\n",
    "time = pd.date_range(time_0, time_end, freq='3H')\n",
    "time_forecast = time.format(formatter=lambda x: x.strftime('%Y%m%d.%H%M'))"
   ]
  },
  {
   "cell_type": "code",
   "execution_count": 100,
   "metadata": {},
   "outputs": [],
   "source": [
    "## Concatenate WIND data\n",
    "\n",
    "U_grid = np.concatenate((U1,V2))\n",
    "V_grid = np.concatenate((V1,V2))"
   ]
  },
  {
   "cell_type": "code",
   "execution_count": 101,
   "metadata": {},
   "outputs": [],
   "source": [
    "## Write WIND input SWAN in CSV\n",
    "\n",
    "time_swan = 'wind_noaa_2015.wnd'\n",
    "\n",
    "file = open(time_swan,'w')\n",
    "for t in range(len(time_forecast)):\n",
    "    file.write(time_forecast[t])\n",
    "    file.write('''\n",
    "''')\n",
    "    file.close()\n",
    "    file = open(time_swan,'a+')\n",
    "    file.write(pd.DataFrame(U_grid[t][:][:]).to_csv(index=False, header=False, na_rep=0,float_format='%7.3f'))\n",
    "    file.write(pd.DataFrame(V_grid[t][:][:]).to_csv(index=False, header=False, na_rep=0, float_format='%7.3f'))\n",
    "    \n",
    "file = open(time_swan,\"rt\")\n",
    "data = file.read()\n",
    "data = data.replace(',',' ')\n",
    "file.close()\n",
    "file = open(time_swan,\"wt\")\n",
    "file.write(data)\n",
    "file.close()"
   ]
  },
  {
   "cell_type": "code",
   "execution_count": 103,
   "metadata": {},
   "outputs": [
    {
     "data": {
      "text/plain": [
       "<matplotlib.collections.PathCollection at 0x12713fba8>"
      ]
     },
     "execution_count": 103,
     "metadata": {},
     "output_type": "execute_result"
    },
    {
     "data": {
      "image/png": "[encoded data removed]",
      "text/plain": [
       "<Figure size 432x288 with 1 Axes>"
      ]
     },
     "metadata": {
      "needs_background": "light"
     },
     "output_type": "display_data"
    }
   ],
   "source": [
    "plt.contourf(lon,lat,U[0])\n",
    "x = loadmat('grid_controle.mat')\n",
    "lat_swan = x['Yp']\n",
    "lon_swan = x['Xp']\n",
    "plt.scatter(lon_swan,lat_swan)"
   ]
  },
  {
   "cell_type": "code",
   "execution_count": null,
   "metadata": {},
   "outputs": [],
   "source": []
  }
 ],
 "metadata": {
  "kernelspec": {
   "display_name": "Python [conda env:root] *",
   "language": "python",
   "name": "conda-root-py"
  },
  "language_info": {
   "codemirror_mode": {
    "name": "ipython",
    "version": 3
   },
   "file_extension": ".py",
   "mimetype": "text/x-python",
   "name": "python",
   "nbconvert_exporter": "python",
   "pygments_lexer": "ipython3",
   "version": "3.6.10"
  }
 },
 "nbformat": 4,
 "nbformat_minor": 4
}
