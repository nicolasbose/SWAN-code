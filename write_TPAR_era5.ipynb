{
 "cells": [
  {
   "cell_type": "code",
   "execution_count": 1,
   "metadata": {},
   "outputs": [
    {
     "name": "stderr",
     "output_type": "stream",
     "text": [
      "/Users/nicolasdeassisbose/anaconda3/lib/python3.6/site-packages/dask/config.py:131: YAMLLoadWarning: calling yaml.load() without Loader=... is deprecated, as the default Loader is unsafe. Please read https://msg.pyyaml.org/load for full details.\n",
      "  data = yaml.load(f.read()) or {}\n"
     ]
    }
   ],
   "source": [
    "## Write ERA5 Waves\n",
    "\n",
    "\n",
    "import xarray as xr \n",
    "import numpy as np \n",
    "import pandas as pd\n",
    "import matplotlib.pyplot as plt"
   ]
  },
  {
   "cell_type": "code",
   "execution_count": 3,
   "metadata": {},
   "outputs": [
    {
     "name": "stdout",
     "output_type": "stream",
     "text": [
      "/Users/nicolasdeassisbose/Desktop/codigo_artigo/era5\n"
     ]
    }
   ],
   "source": [
    "%cd /Users/nicolasdeassisbose/Desktop/codigo_artigo/era5/\n",
    "\n",
    "data_era5 = xr.open_dataset('wave_era5_2015_2.nc')"
   ]
  },
  {
   "cell_type": "code",
   "execution_count": 49,
   "metadata": {},
   "outputs": [],
   "source": [
    "lat = data_era5['latitude'].values\n",
    "lon = data_era5['longitude'].values\n",
    "\n",
    "# Time from ERA5\n",
    "\n",
    "time_0 = str(time_era5[0])\n",
    "time_end = str(time_era5[-1])\n",
    "time = pd.date_range(time_0, time_end, freq='1H')\n",
    "time_forecast = time.format(formatter=lambda x: x.strftime('%Y%m%d.%H%M'))"
   ]
  },
  {
   "cell_type": "code",
   "execution_count": 9,
   "metadata": {},
   "outputs": [
    {
     "name": "stdout",
     "output_type": "stream",
     "text": [
      "29\n"
     ]
    },
    {
     "data": {
      "image/png": "[encoded data removed]",
      "text/plain": [
       "<Figure size 432x288 with 1 Axes>"
      ]
     },
     "metadata": {
      "needs_background": "light"
     },
     "output_type": "display_data"
    }
   ],
   "source": [
    "## Function to write the boundary\n",
    "\n",
    "def coord_points(vert1, vert2, resolution):\n",
    "    import numpy as np\n",
    "    \n",
    "    # Create matrix of linear equation ax + b = y from vertices\n",
    "    a = np.array([[vert1[0], 1], [vert2[0], 1]])\n",
    "    b = np.array([vert1[1], vert2[1]])\n",
    "    \n",
    "    #Calculate a and b\n",
    "    a, b = np.linalg.solve(a, b)\n",
    "    \n",
    "    # Create list of x coords between vertices\n",
    "    x_coords = np.arange(vert1[0], vert2[0], resolution).tolist()\n",
    "    y_coords = []\n",
    "    \n",
    "    # Calculate y coords from x coords\n",
    "    for coord in x_coords:\n",
    "        y = (a*coord) + b\n",
    "        y_coords.append(y)\n",
    "    coords = np.column_stack((x_coords, y_coords))\n",
    "    return coords\n",
    "\n",
    "\n",
    "## Grid Coordinate edges\n",
    "\n",
    "vert_NE = [-45.0, -26.5]\n",
    "vert_NW = [-49.5, -24.0]\n",
    "vert_SE = [-51.0, -37.0]\n",
    "vert_SW = [-55.0, -35.0]\n",
    "\n",
    "coords_north = coord_points(vert_NW, vert_NE, 0.5)\n",
    "coords_east = coord_points(vert_SE, vert_NE, 0.5).tolist()\n",
    "coords_east.sort(reverse = True)\n",
    "coords_east = np.array(coords_east)\n",
    "coords_south = coord_points(vert_SW,vert_SE, 0.5).tolist()\n",
    "coords_south.sort(reverse = True)\n",
    "coords_south = np.array(coords_south)\n",
    "\n",
    "coords = np.vstack((coords_north, coords_east, coords_south))\n",
    "\n",
    "print(len(coords))\n",
    "\n",
    "plt.scatter(coords[:,[0]],coords[:,[1]])\n",
    "plt.show()"
   ]
  },
  {
   "cell_type": "code",
   "execution_count": 52,
   "metadata": {},
   "outputs": [],
   "source": [
    "hs_pr1 = []\n",
    "\n",
    "for p in range(len(coords)):\n",
    "    hs_pr01 = data_era5.sel(dict(longitude=(coords[p][0]+360),latitude=coords[p][1]),method='nearest')\n",
    "    hs_pr1.append(hs_pr01)\n",
    "\n",
    "\n",
    "Hs = np.array(list(xr.concat(hs_pr1,\"new_dim\").swh.values))\n",
    "Tp = np.array(list(xr.concat(hs_pr1,\"new_dim\").pp1d.values))\n",
    "Dm = np.array(list(xr.concat(hs_pr1,\"new_dim\").mwd.values))\n",
    "\n",
    "## Colum of Directional Spread \n",
    "spr = np.ones([len(time_forecast),1])*4 # 4 is used as Directional Spread as suggested in swan manual\n"
   ]
  },
  {
   "cell_type": "code",
   "execution_count": null,
   "metadata": {},
   "outputs": [],
   "source": [
    "## WRITE TPAR wave boundary condition\n",
    "\n",
    "for i in range(len(coords)):\n",
    "    f = open(\"tpar_era5_\" + str(i) + \".bnd\", \"w\")\n",
    "    f.write(\"TPAR\")\n",
    "    f.write('''\n",
    "''')\n",
    "    TPAR = np.transpose(np.vstack((time_forecast,Hs[i][:],Tp[i][:],Dm[i][:],spr[:,0])))\n",
    "    f.write(pd.DataFrame(TPAR).to_string(index=False,\n",
    "                                                   header=False,\n",
    "                                                   float_format='%10.5f'))\n",
    "    f = open(\"tpar_era5_\" + str(i) + \".bnd\",\"rt\")\n",
    "    data = f.read()\n",
    "    data = data.replace(\" 2015\", \"2015\")\n",
    "    \n",
    "    \n",
    "    f = open(\"tpar_era5_\" + str(i) + \".bnd\",\"wt\")\n",
    "    f.write(data)\n",
    "    f.close()\n",
    "    \n",
    "    f.close()\n",
    "    "
   ]
  },
  {
   "cell_type": "code",
   "execution_count": 43,
   "metadata": {},
   "outputs": [
    {
     "data": {
      "text/plain": [
       "(29, 4416)"
      ]
     },
     "execution_count": 43,
     "metadata": {},
     "output_type": "execute_result"
    }
   ],
   "source": [
    "Hs.shape"
   ]
  },
  {
   "cell_type": "code",
   "execution_count": 51,
   "metadata": {},
   "outputs": [
    {
     "data": {
      "text/plain": [
       "(4416,)"
      ]
     },
     "execution_count": 51,
     "metadata": {},
     "output_type": "execute_result"
    }
   ],
   "source": [
    "np.shape(time_forecast)"
   ]
  },
  {
   "cell_type": "code",
   "execution_count": 32,
   "metadata": {},
   "outputs": [],
   "source": []
  },
  {
   "cell_type": "code",
   "execution_count": null,
   "metadata": {},
   "outputs": [],
   "source": []
  },
  {
   "cell_type": "code",
   "execution_count": 39,
   "metadata": {},
   "outputs": [
    {
     "data": {
      "text/plain": [
       "'20150701.0000'"
      ]
     },
     "execution_count": 39,
     "metadata": {},
     "output_type": "execute_result"
    }
   ],
   "source": [
    "time_forecast[0]"
   ]
  },
  {
   "cell_type": "code",
   "execution_count": null,
   "metadata": {},
   "outputs": [],
   "source": []
  }
 ],
 "metadata": {
  "kernelspec": {
   "display_name": "Python [conda env:root] *",
   "language": "python",
   "name": "conda-root-py"
  },
  "language_info": {
   "codemirror_mode": {
    "name": "ipython",
    "version": 3
   },
   "file_extension": ".py",
   "mimetype": "text/x-python",
   "name": "python",
   "nbconvert_exporter": "python",
   "pygments_lexer": "ipython3",
   "version": "3.6.10"
  }
 },
 "nbformat": 4,
 "nbformat_minor": 4
}
