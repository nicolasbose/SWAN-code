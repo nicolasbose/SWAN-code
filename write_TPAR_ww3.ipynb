{
 "cells": [
  {
   "cell_type": "code",
   "execution_count": 1,
   "metadata": {},
   "outputs": [
    {
     "name": "stderr",
     "output_type": "stream",
     "text": [
      "/Users/nicolasdeassisbose/anaconda3/lib/python3.6/site-packages/dask/config.py:131: YAMLLoadWarning: calling yaml.load() without Loader=... is deprecated, as the default Loader is unsafe. Please read https://msg.pyyaml.org/load for full details.\n",
      "  data = yaml.load(f.read()) or {}\n"
     ]
    }
   ],
   "source": [
    "import numpy as np\n",
    "import pygrib\n",
    "import matplotlib.pyplot as plt\n",
    "import xarray as xr\n",
    "import os, glob\n",
    "import Nio\n",
    "from scipy.io import loadmat\n",
    "import pandas as pd \n",
    "import datetime"
   ]
  },
  {
   "cell_type": "code",
   "execution_count": 2,
   "metadata": {},
   "outputs": [
    {
     "name": "stdout",
     "output_type": "stream",
     "text": [
      "/Users/nicolasdeassisbose/Desktop/codigo_artigo/ww3_parameters\n"
     ]
    }
   ],
   "source": [
    "# Open Hs WW3 data\n",
    "\n",
    "%cd /Users/nicolasdeassisbose/Desktop/codigo_artigo/ww3_parameters\n",
    "\n",
    "path_hs = sorted(glob.glob(os.path.join('multi_1.glo_30m.hs*.grb2')))\n",
    "\n",
    "pr1_hs = xr.open_dataset(path_hs[0], engine = 'pynio')\n",
    "pr2_hs = xr.open_dataset(path_hs[1], engine = 'pynio')\n",
    "#pr3_hs = xr.open_dataset(path_hs[2], engine = 'pynio')\n",
    "#pr4_hs = xr.open_dataset(path_hs[3], engine = 'pynio')\n",
    "#pr5_hs = xr.open_dataset(path_hs[4], engine = 'pynio')\n",
    "#pr6_hs = xr.open_dataset(path_hs[5], engine = 'pynio')\n",
    "#pr7_hs = xr.open_dataset(path_hs[6], engine = 'pynio')\n",
    "#pr8_hs = xr.open_dataset(path_hs[7], engine = 'pynio')\n",
    "#pr9_hs = xr.open_dataset(path_hs[8], engine = 'pynio')\n",
    "#pr10_hs = xr.open_dataset(path_hs[9], engine = 'pynio')\n",
    "#pr11_hs = xr.open_dataset(path_hs[10], engine = 'pynio')\n",
    "#pr12_hs = xr.open_dataset(path_hs[11], engine = 'pynio')"
   ]
  },
  {
   "cell_type": "code",
   "execution_count": 4,
   "metadata": {},
   "outputs": [],
   "source": [
    "# Open Tp WW3 data\n",
    "\n",
    "path_tp = sorted(glob.glob(os.path.join('multi_1.glo_30m.tp*.grb2')))\n",
    "\n",
    "pr1_tp = xr.open_dataset(path_tp[0], engine = 'pynio')\n",
    "pr2_tp = xr.open_dataset(path_tp[1], engine = 'pynio')\n",
    "#pr3_tp = xr.open_dataset(path_tp[2], engine = 'pynio')\n",
    "#pr4_tp = xr.open_dataset(path_tp[3], engine = 'pynio')\n",
    "#pr5_tp = xr.open_dataset(path_tp[4], engine = 'pynio')\n",
    "#pr6_tp = xr.open_dataset(path_tp[5], engine = 'pynio')\n",
    "#pr7_tp = xr.open_dataset(path_tp[6], engine = 'pynio')\n",
    "#pr8_tp = xr.open_dataset(path_tp[7], engine = 'pynio')\n",
    "#pr9_tp = xr.open_dataset(path_tp[8], engine = 'pynio')\n",
    "#pr10_tp = xr.open_dataset(path_tp[9], engine = 'pynio')\n",
    "#pr11_tp = xr.open_dataset(path_tp[10], engine = 'pynio')\n",
    "#pr12_tp = xr.open_dataset(path_tp[11], engine = 'pynio')"
   ]
  },
  {
   "cell_type": "code",
   "execution_count": 5,
   "metadata": {},
   "outputs": [],
   "source": [
    "# Open Dp WW3 data\n",
    "\n",
    "path_dp = sorted(glob.glob(os.path.join('multi_1.glo_30m.dp*.grb2')))\n",
    "\n",
    "pr1_dp = xr.open_dataset(path_dp[0], engine = 'pynio')\n",
    "pr2_dp = xr.open_dataset(path_dp[1], engine = 'pynio')\n",
    "#pr3_dp = xr.open_dataset(path_dp[2], engine = 'pynio')\n",
    "#pr4_dp = xr.open_dataset(path_dp[3], engine = 'pynio')\n",
    "#pr5_dp = xr.open_dataset(path_dp[4], engine = 'pynio')\n",
    "#pr6_dp = xr.open_dataset(path_dp[5], engine = 'pynio')\n",
    "#pr7_dp = xr.open_dataset(path_dp[6], engine = 'pynio')\n",
    "#pr8_dp = xr.open_dataset(path_dp[7], engine = 'pynio')\n",
    "#pr9_dp = xr.open_dataset(path_dp[8], engine = 'pynio')\n",
    "#pr10_dp = xr.open_dataset(path_dp[9], engine = 'pynio')\n",
    "#pr11_dp = xr.open_dataset(path_dp[10], engine = 'pynio')\n",
    "#pr12_dp = xr.open_dataset(path_dp[11], engine = 'pynio')"
   ]
  },
  {
   "cell_type": "code",
   "execution_count": 7,
   "metadata": {},
   "outputs": [],
   "source": [
    "# Coordinate WW3 \n",
    "\n",
    "\n",
    "lat_ww3 = pr1_hs['lat_0'].values\n",
    "lon_ww3 = pr1_hs['lon_0'].values-360\n",
    "    "
   ]
  },
  {
   "cell_type": "code",
   "execution_count": 8,
   "metadata": {},
   "outputs": [],
   "source": [
    "# Time from WW3/NCEP\n",
    "\n",
    "time_0 = '20150101' \n",
    "time_end = '20150228 21:00:00'\n",
    "time = pd.date_range(time_0, time_end, freq='3H')\n",
    "time_forecast = time.format(formatter=lambda x: x.strftime('%Y%m%d.%H%M'))"
   ]
  },
  {
   "cell_type": "code",
   "execution_count": 9,
   "metadata": {},
   "outputs": [],
   "source": [
    "## Load SWAN Grid\n",
    "\n",
    "x = loadmat('grid_controle.mat')\n",
    "lat_swan = x['Yp']\n",
    "lon_swan = x['Xp']"
   ]
  },
  {
   "cell_type": "code",
   "execution_count": 10,
   "metadata": {},
   "outputs": [
    {
     "name": "stdout",
     "output_type": "stream",
     "text": [
      "29\n"
     ]
    },
    {
     "data": {
      "image/png": "[encoded data removed]",
      "text/plain": [
       "<Figure size 432x288 with 1 Axes>"
      ]
     },
     "metadata": {
      "needs_background": "light"
     },
     "output_type": "display_data"
    }
   ],
   "source": [
    "## Function to write the boundary\n",
    "\n",
    "def coord_points(vert1, vert2, resolution):\n",
    "    import numpy as np\n",
    "    \n",
    "    # Create matrix of linear equation ax + b = y from vertices\n",
    "    a = np.array([[vert1[0], 1], [vert2[0], 1]])\n",
    "    b = np.array([vert1[1], vert2[1]])\n",
    "    \n",
    "    #Calculate a and b\n",
    "    a, b = np.linalg.solve(a, b)\n",
    "    \n",
    "    # Create list of x coords between vertices\n",
    "    x_coords = np.arange(vert1[0], vert2[0], resolution).tolist()\n",
    "    y_coords = []\n",
    "    \n",
    "    # Calculate y coords from x coords\n",
    "    for coord in x_coords:\n",
    "        y = (a*coord) + b\n",
    "        y_coords.append(y)\n",
    "    coords = np.column_stack((x_coords, y_coords))\n",
    "    return coords\n",
    "\n",
    "\n",
    "## Grid Coordinate edges\n",
    "\n",
    "vert_NE = [-45.0, -26.5]\n",
    "vert_NW = [-49.5, -24.0]\n",
    "vert_SE = [-51.0, -37.0]\n",
    "vert_SW = [-55.0, -35.0]\n",
    "\n",
    "coords_north = coord_points(vert_NW, vert_NE, 0.5)\n",
    "coords_east = coord_points(vert_SE, vert_NE, 0.5).tolist()\n",
    "coords_east.sort(reverse = True)\n",
    "coords_east = np.array(coords_east)\n",
    "coords_south = coord_points(vert_SW,vert_SE, 0.5).tolist()\n",
    "coords_south.sort(reverse = True)\n",
    "coords_south = np.array(coords_south)\n",
    "\n",
    "coords = np.vstack((coords_north, coords_east, coords_south))\n",
    "\n",
    "print(len(coords))\n",
    "\n",
    "plt.scatter(coords[:,[0]],coords[:,[1]])\n",
    "plt.show()"
   ]
  },
  {
   "cell_type": "code",
   "execution_count": 11,
   "metadata": {},
   "outputs": [],
   "source": [
    "## Extract Hs boundary points\n",
    "\n",
    "hs_pr1 = []\n",
    "hs_pr2 = []\n",
    "hs_pr3 = []\n",
    "hs_pr4 = []\n",
    "hs_pr5 = []\n",
    "hs_pr6 = []\n",
    "hs_pr7 = []\n",
    "hs_pr8 = []\n",
    "hs_pr9 = []\n",
    "hs_pr10 = []\n",
    "hs_pr11 = []\n",
    "hs_pr12 = []\n",
    "\n",
    "for p in range(len(coords)):\n",
    "    hs_pr01 = pr1_hs.sel(dict(lon_0=(coords[p][0]+360),lat_0=coords[p][1]),method='nearest')\n",
    "    hs_pr02 = pr2_hs.sel(dict(lon_0=(coords[p][0]+360),lat_0=coords[p][1]),method='nearest')\n",
    "    #hs_pr03 = pr3_hs.sel(dict(lon_0=(coords[p][0]+360),lat_0=coords[p][1]),method='nearest')\n",
    "    #hs_pr04 = pr4_hs.sel(dict(lon_0=(coords[p][0]+360),lat_0=coords[p][1]),method='nearest')\n",
    "    #hs_pr05 = pr5_hs.sel(dict(lon_0=(coords[p][0]+360),lat_0=coords[p][1]),method='nearest')\n",
    "    #hs_pr06 = pr6_hs.sel(dict(lon_0=(coords[p][0]+360),lat_0=coords[p][1]),method='nearest')\n",
    "    #hs_pr07 = pr7_hs.sel(dict(lon_0=(coords[p][0]+360),lat_0=coords[p][1]),method='nearest')\n",
    "    #hs_pr08 = pr8_hs.sel(dict(lon_0=(coords[p][0]+360),lat_0=coords[p][1]),method='nearest')\n",
    "    #hs_pr09 = pr9_hs.sel(dict(lon_0=(coords[p][0]+360),lat_0=coords[p][1]),method='nearest')\n",
    "    #hs_pr10 = pr10_hs.sel(dict(lon_0=(coords[p][0]+360),lat_0=coords[p][1]),method='nearest')\n",
    "    #hs_pr11 = pr11_hs.sel(dict(lon_0=(coords[p][0]+360),lat_0=coords[p][1]),method='nearest')\n",
    "    #hs_pr12 = pr12_hs.sel(dict(lon_0=(coords[p][0]+360),lat_0=coords[p][1]),method='nearest')\n",
    "    hs_pr1.append(hs_pr01)\n",
    "    hs_pr2.append(hs_pr02)\n",
    "    #hs_pr3.append(hs_pr03)\n",
    "    #hs_pr4.append(hs_pr04)\n",
    "    #hs_pr5.append(hs_pr05)\n",
    "    #hs_pr6.append(hs_pr06)\n",
    "    #hs_pr7.append(hs_pr07)\n",
    "    #hs_pr8.append(hs_pr08)\n",
    "    #hs_pr9.append(hs_pr09)\n",
    "    #hs_pr10.append(hs_pr10)\n",
    "    #hs_pr11.append(hs_pr11)\n",
    "    #hs_pr12.append(hs_pr12)\n",
    "    \n",
    "Hs1 = np.array(list(xr.concat(hs_pr1,\"new_dim\").HTSGW_P0_L1_GLL0.values))\n",
    "Hs2 = np.array(list(xr.concat(hs_pr2,\"new_dim\").HTSGW_P0_L1_GLL0.values))\n",
    "#Hs3 = np.array(list(xr.concat(hs_pr3,\"new_dim\").HTSGW_P0_L1_GLL0.values))\n",
    "#Hs4 = np.array(list(xr.concat(hs_pr4,\"new_dim\").HTSGW_P0_L1_GLL0.values))\n",
    "#Hs5 = np.array(list(xr.concat(hs_pr5,\"new_dim\").HTSGW_P0_L1_GLL0.values))\n",
    "#Hs6 = np.array(list(xr.concat(hs_pr6,\"new_dim\").HTSGW_P0_L1_GLL0.values))\n",
    "#Hs7 = np.array(list(xr.concat(hs_pr7,\"new_dim\").HTSGW_P0_L1_GLL0.values))\n",
    "#Hs8 = np.array(list(xr.concat(hs_pr8,\"new_dim\").HTSGW_P0_L1_GLL0.values))\n",
    "#Hs9 = np.array(list(xr.concat(hs_pr9,\"new_dim\").HTSGW_P0_L1_GLL0.values))\n",
    "#Hs10 = np.array(list(xr.concat(hs_pr10,\"new_dim\").HTSGW_P0_L1_GLL0.values))\n",
    "#Hs11 = np.array(list(xr.concat(hs_pr11,\"new_dim\").HTSGW_P0_L1_GLL0.values))\n",
    "#Hs12 = np.array(list(xr.concat(hs_pr12,\"new_dim\").HTSGW_P0_L1_GLL0.values))\n",
    "\n"
   ]
  },
  {
   "cell_type": "code",
   "execution_count": 12,
   "metadata": {},
   "outputs": [],
   "source": [
    "hs_hind = np.concatenate([Hs1[:,:-1],Hs2[:,:-1]],1)"
   ]
  },
  {
   "cell_type": "code",
   "execution_count": 15,
   "metadata": {},
   "outputs": [],
   "source": [
    "## Extract tp boundary points\n",
    "\n",
    "tp_pr1 = []\n",
    "tp_pr2 = []\n",
    "tp_pr3 = []\n",
    "tp_pr4 = []\n",
    "tp_pr5 = []\n",
    "tp_pr6 = []\n",
    "tp_pr7 = []\n",
    "tp_pr8 = []\n",
    "tp_pr9 = []\n",
    "tp_pr10 = []\n",
    "tp_pr11 = []\n",
    "tp_pr12 = []\n",
    "\n",
    "for p in range(len(coords)):\n",
    "    tp_pr01 = pr1_tp.sel(dict(lon_0=(coords[p][0]+360),lat_0=coords[p][1]),method='nearest')\n",
    "    tp_pr02 = pr2_tp.sel(dict(lon_0=(coords[p][0]+360),lat_0=coords[p][1]),method='nearest')\n",
    "    #tp_pr03 = pr3_tp.sel(dict(lon_0=(coords[p][0]+360),lat_0=coords[p][1]),method='nearest')\n",
    "    #tp_pr04 = pr4_tp.sel(dict(lon_0=(coords[p][0]+360),lat_0=coords[p][1]),method='nearest')\n",
    "    #tp_pr05 = pr5_tp.sel(dict(lon_0=(coords[p][0]+360),lat_0=coords[p][1]),method='nearest')\n",
    "    #tp_pr06 = pr6_tp.sel(dict(lon_0=(coords[p][0]+360),lat_0=coords[p][1]),method='nearest')\n",
    "    #tp_pr07 = pr7_tp.sel(dict(lon_0=(coords[p][0]+360),lat_0=coords[p][1]),method='nearest')\n",
    "    #tp_pr08 = pr8_tp.sel(dict(lon_0=(coords[p][0]+360),lat_0=coords[p][1]),method='nearest')\n",
    "    #tp_pr09 = pr9_tp.sel(dict(lon_0=(coords[p][0]+360),lat_0=coords[p][1]),method='nearest')\n",
    "    #tp_pr10 = pr10_tp.sel(dict(lon_0=(coords[p][0]+360),lat_0=coords[p][1]),method='nearest')\n",
    "    #tp_pr11 = pr11_tp.sel(dict(lon_0=(coords[p][0]+360),lat_0=coords[p][1]),method='nearest')\n",
    "    #tp_pr12 = pr12_tp.sel(dict(lon_0=(coords[p][0]+360),lat_0=coords[p][1]),method='nearest')\n",
    "    tp_pr1.append(tp_pr01)\n",
    "    tp_pr2.append(tp_pr02)\n",
    "    #tp_pr3.append(tp_pr03)\n",
    "    #tp_pr4.append(tp_pr04)\n",
    "    #tp_pr5.append(tp_pr05)\n",
    "    #tp_pr6.append(tp_pr06)\n",
    "    #tp_pr7.append(tp_pr07)\n",
    "    #tp_pr8.append(tp_pr08)\n",
    "    #tp_pr9.append(tp_pr09)\n",
    "    #tp_pr10.append(tp_pr10)\n",
    "    #tp_pr11.append(tp_pr11)\n",
    "    #tp_pr12.append(tp_pr12)\n",
    "    \n",
    "tp1 = np.array(list(xr.concat(tp_pr1,\"new_dim\").PERPW_P0_L1_GLL0.values))\n",
    "tp2 = np.array(list(xr.concat(tp_pr2,\"new_dim\").PERPW_P0_L1_GLL0.values))\n",
    "#tp3 = np.array(list(xr.concat(tp_pr3,\"new_dim\").PERPW_P0_L1_GLL0.values))\n",
    "#tp4 = np.array(list(xr.concat(tp_pr4,\"new_dim\").PERPW_P0_L1_GLL0.values))\n",
    "#tp5 = np.array(list(xr.concat(tp_pr5,\"new_dim\").PERPW_P0_L1_GLL0.values))\n",
    "#tp6 = np.array(list(xr.concat(tp_pr6,\"new_dim\").PERPW_P0_L1_GLL0.values))\n",
    "#tp7 = np.array(list(xr.concat(tp_pr7,\"new_dim\").PERPW_P0_L1_GLL0.values))\n",
    "#tp8 = np.array(list(xr.concat(tp_pr8,\"new_dim\").PERPW_P0_L1_GLL0.values))\n",
    "#tp9 = np.array(list(xr.concat(tp_pr9,\"new_dim\").PERPW_P0_L1_GLL0.values))\n",
    "#tp10 = np.array(list(xr.concat(tp_pr10,\"new_dim\").PERPW_P0_L1_GLL0.values))\n",
    "#tp11 = np.array(list(xr.concat(tp_pr11,\"new_dim\").PERPW_P0_L1_GLL0.values))\n",
    "#tp12 = np.array(list(xr.concat(tp_pr12,\"new_dim\").PERPW_P0_L1_GLL0.values))"
   ]
  },
  {
   "cell_type": "code",
   "execution_count": 16,
   "metadata": {},
   "outputs": [],
   "source": [
    "tp_hind = np.concatenate([tp1[:,:-1],tp2[:,:-1]],1)"
   ]
  },
  {
   "cell_type": "code",
   "execution_count": 19,
   "metadata": {},
   "outputs": [],
   "source": [
    "## Extract Dp boundary points\n",
    "\n",
    "dp_pr1 = []\n",
    "dp_pr2 = []\n",
    "dp_pr3 = []\n",
    "dp_pr4 = []\n",
    "dp_pr5 = []\n",
    "dp_pr6 = []\n",
    "dp_pr7 = []\n",
    "dp_pr8 = []\n",
    "dp_pr9 = []\n",
    "dp_pr10 = []\n",
    "dp_pr11 = []\n",
    "dp_pr12 = []\n",
    "\n",
    "for p in range(len(coords)):\n",
    "    dp_pr01 = pr1_dp.sel(dict(lon_0=(coords[p][0]+360),lat_0=coords[p][1]),method='nearest')\n",
    "    dp_pr02 = pr2_dp.sel(dict(lon_0=(coords[p][0]+360),lat_0=coords[p][1]),method='nearest')\n",
    "    #dp_pr03 = pr3_dp.sel(dict(lon_0=(coords[p][0]+360),lat_0=coords[p][1]),method='nearest')\n",
    "    #dp_pr04 = pr4_dp.sel(dict(lon_0=(coords[p][0]+360),lat_0=coords[p][1]),method='nearest')\n",
    "    #dp_pr05 = pr5_dp.sel(dict(lon_0=(coords[p][0]+360),lat_0=coords[p][1]),method='nearest')\n",
    "    #dp_pr06 = pr6_dp.sel(dict(lon_0=(coords[p][0]+360),lat_0=coords[p][1]),method='nearest')\n",
    "    #dp_pr07 = pr7_dp.sel(dict(lon_0=(coords[p][0]+360),lat_0=coords[p][1]),method='nearest')\n",
    "    #dp_pr08 = pr8_dp.sel(dict(lon_0=(coords[p][0]+360),lat_0=coords[p][1]),method='nearest')\n",
    "    #dp_pr09 = pr9_dp.sel(dict(lon_0=(coords[p][0]+360),lat_0=coords[p][1]),method='nearest')\n",
    "    #dp_pr10 = pr10_dp.sel(dict(lon_0=(coords[p][0]+360),lat_0=coords[p][1]),method='nearest')\n",
    "    #dp_pr11 = pr11_dp.sel(dict(lon_0=(coords[p][0]+360),lat_0=coords[p][1]),method='nearest')\n",
    "    #dp_pr12 = pr12_dp.sel(dict(lon_0=(coords[p][0]+360),lat_0=coords[p][1]),method='nearest')\n",
    "    dp_pr1.append(dp_pr01)\n",
    "    dp_pr2.append(dp_pr02)\n",
    "    #dp_pr3.append(dp_pr03)\n",
    "    #dp_pr4.append(dp_pr04)\n",
    "    #dp_pr5.append(dp_pr05)\n",
    "    #dp_pr6.append(dp_pr06)\n",
    "    #dp_pr7.append(dp_pr07)\n",
    "    #dp_pr8.append(dp_pr08)\n",
    "    #dp_pr9.append(dp_pr09)\n",
    "    #dp_pr10.append(dp_pr10)\n",
    "    #dp_pr11.append(dp_pr11)\n",
    "    #dp_pr12.append(dp_pr12)\n",
    "    \n",
    "dp1 = np.array(list(xr.concat(dp_pr1,\"new_dim\").DIRPW_P0_L1_GLL0.values))\n",
    "dp2 = np.array(list(xr.concat(dp_pr2,\"new_dim\").DIRPW_P0_L1_GLL0.values))\n",
    "#dp3 = np.array(list(xr.concat(dp_pr3,\"new_dim\").DIRPW_P0_L1_GLL0.values))\n",
    "#dp4 = np.array(list(xr.concat(dp_pr4,\"new_dim\").DIRPW_P0_L1_GLL0.values))\n",
    "#dp5 = np.array(list(xr.concat(dp_pr5,\"new_dim\").DIRPW_P0_L1_GLL0.values))\n",
    "#dp6 = np.array(list(xr.concat(dp_pr6,\"new_dim\").DIRPW_P0_L1_GLL0.values))\n",
    "#dp7 = np.array(list(xr.concat(dp_pr7,\"new_dim\").DIRPW_P0_L1_GLL0.values))\n",
    "#dp8 = np.array(list(xr.concat(dp_pr8,\"new_dim\").DIRPW_P0_L1_GLL0.values))\n",
    "#dp9 = np.array(list(xr.concat(dp_pr9,\"new_dim\").DIRPW_P0_L1_GLL0.values))\n",
    "#dp10 = np.array(list(xr.concat(dp_pr10,\"new_dim\").DIRPW_P0_L1_GLL0.values))\n",
    "#dp11 = np.array(list(xr.concat(dp_pr11,\"new_dim\").DIRPW_P0_L1_GLL0.values))\n",
    "#dp12 = np.array(list(xr.concat(dp_pr12,\"new_dim\").DIRPW_P0_L1_GLL0.values))"
   ]
  },
  {
   "cell_type": "code",
   "execution_count": 20,
   "metadata": {},
   "outputs": [],
   "source": [
    "dp_hind = np.concatenate([dp1[:,:-1],dp2[:,:-1]],1)"
   ]
  },
  {
   "cell_type": "code",
   "execution_count": 21,
   "metadata": {},
   "outputs": [],
   "source": [
    "## Colum of Directional Spread \n",
    "\n",
    "spr = np.ones([len(time_forecast),1])*4 # 4 is used as Directional Spread as suggested in swan manual\n"
   ]
  },
  {
   "cell_type": "code",
   "execution_count": 27,
   "metadata": {},
   "outputs": [],
   "source": [
    "## WRITE TPAR wave boundary condition\n",
    "\n",
    "for i in range(2):\n",
    "    f = open(\"tpar_forecast\" + str(i) + \".bnd\", \"w\")\n",
    "    f.write(\"TPAR\")\n",
    "    f.write('''\n",
    "''')\n",
    "    TPAR = np.transpose(np.vstack((time_forecast,hs_hind[i][:],tp_hind[i][:],dp_hind[i][:],spr[:,0])))\n",
    "    f.write(pd.DataFrame(TPAR).to_string(index=False,\n",
    "                                                   header=False,\n",
    "                                                   float_format='%10.5f'))\n",
    "    f = open(\"tpar_forecast\" + str(i) + \".bnd\",\"rt\")\n",
    "    data = f.read()\n",
    "    data = data.replace(\" 2015\", \"2015\")\n",
    "    \n",
    "    \n",
    "    f = open(\"tpar_forecast\" + str(i) + \".bnd\",\"wt\")\n",
    "    f.write(data)\n",
    "    f.close()\n",
    "    \n",
    "    f.close()"
   ]
  },
  {
   "cell_type": "code",
   "execution_count": 25,
   "metadata": {},
   "outputs": [
    {
     "data": {
      "text/plain": [
       "(2, 472)"
      ]
     },
     "execution_count": 25,
     "metadata": {},
     "output_type": "execute_result"
    }
   ],
   "source": [
    "hs_hind.shape"
   ]
  },
  {
   "cell_type": "code",
   "execution_count": 86,
   "metadata": {},
   "outputs": [
    {
     "ename": "TypeError",
     "evalue": "list indices must be integers or slices, not tuple",
     "output_type": "error",
     "traceback": [
      "\u001b[0;31m---------------------------------------------------------------------------\u001b[0m",
      "\u001b[0;31mTypeError\u001b[0m                                 Traceback (most recent call last)",
      "\u001b[0;32m<ipython-input-86-1081fd2038fb>\u001b[0m in \u001b[0;36m<module>\u001b[0;34m\u001b[0m\n\u001b[0;32m----> 1\u001b[0;31m \u001b[0mhs_wave\u001b[0m \u001b[0;34m=\u001b[0m \u001b[0mnp\u001b[0m\u001b[0;34m.\u001b[0m\u001b[0mconcatenate\u001b[0m\u001b[0;34m(\u001b[0m\u001b[0;34m[\u001b[0m\u001b[0mwave_01\u001b[0m\u001b[0;34m[\u001b[0m\u001b[0;34m:\u001b[0m\u001b[0;34m,\u001b[0m\u001b[0;34m:\u001b[0m\u001b[0;36m244\u001b[0m\u001b[0;34m]\u001b[0m\u001b[0;34m,\u001b[0m\u001b[0mwave_02\u001b[0m\u001b[0;34m]\u001b[0m\u001b[0;34m,\u001b[0m\u001b[0;36m1\u001b[0m\u001b[0;34m)\u001b[0m\u001b[0;34m\u001b[0m\u001b[0;34m\u001b[0m\u001b[0m\n\u001b[0m",
      "\u001b[0;31mTypeError\u001b[0m: list indices must be integers or slices, not tuple"
     ]
    }
   ],
   "source": []
  },
  {
   "cell_type": "code",
   "execution_count": 108,
   "metadata": {},
   "outputs": [
    {
     "data": {
      "text/plain": [
       "(2, 249)"
      ]
     },
     "execution_count": 108,
     "metadata": {},
     "output_type": "execute_result"
    }
   ],
   "source": [
    "waves01[:,].shape"
   ]
  },
  {
   "cell_type": "code",
   "execution_count": null,
   "metadata": {},
   "outputs": [],
   "source": []
  },
  {
   "cell_type": "code",
   "execution_count": null,
   "metadata": {},
   "outputs": [],
   "source": []
  },
  {
   "cell_type": "code",
   "execution_count": null,
   "metadata": {},
   "outputs": [],
   "source": []
  },
  {
   "cell_type": "code",
   "execution_count": null,
   "metadata": {},
   "outputs": [],
   "source": []
  },
  {
   "cell_type": "code",
   "execution_count": null,
   "metadata": {},
   "outputs": [],
   "source": []
  },
  {
   "cell_type": "code",
   "execution_count": null,
   "metadata": {},
   "outputs": [],
   "source": []
  },
  {
   "cell_type": "code",
   "execution_count": null,
   "metadata": {},
   "outputs": [],
   "source": []
  },
  {
   "cell_type": "code",
   "execution_count": null,
   "metadata": {},
   "outputs": [],
   "source": []
  },
  {
   "cell_type": "code",
   "execution_count": null,
   "metadata": {},
   "outputs": [],
   "source": []
  },
  {
   "cell_type": "code",
   "execution_count": null,
   "metadata": {},
   "outputs": [],
   "source": []
  }
 ],
 "metadata": {
  "kernelspec": {
   "display_name": "Python [conda env:root] *",
   "language": "python",
   "name": "conda-root-py"
  },
  "language_info": {
   "codemirror_mode": {
    "name": "ipython",
    "version": 3
   },
   "file_extension": ".py",
   "mimetype": "text/x-python",
   "name": "python",
   "nbconvert_exporter": "python",
   "pygments_lexer": "ipython3",
   "version": "3.6.10"
  }
 },
 "nbformat": 4,
 "nbformat_minor": 4
}
