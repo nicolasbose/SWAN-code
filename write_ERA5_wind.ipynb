{
 "cells": [
  {
   "cell_type": "code",
   "execution_count": 9,
   "metadata": {},
   "outputs": [
    {
     "name": "stdout",
     "output_type": "stream",
     "text": [
      "/Users/nicolasdeassisbose/Desktop/codigo_artigo/ww3_parameters\n"
     ]
    }
   ],
   "source": [
    "%cd /Users/nicolasdeassisbose/Desktop/codigo_artigo/ww3_parameters/"
   ]
  },
  {
   "cell_type": "code",
   "execution_count": 6,
   "metadata": {},
   "outputs": [],
   "source": [
    "def wind_era5(wind_era5,wind_filename_output):\n",
    "    \n",
    "    \n",
    "    # wind_era5 = 'UVera.nc'\n",
    "    # wind_filename_outpu = 'test.wnd'\n",
    "    # This scripts is only for 10 day forecast \n",
    "    # Leitura dos Dados do era5 comeca de cima a esquerda para a direita, IDLA = 2\n",
    "\n",
    "    \n",
    "    import xarray as xr \n",
    "    import numpy as np \n",
    "    import pandas as pd\n",
    "    import matplotlib.pyplot as plt\n",
    "\n",
    "    wind_era5 = wind_era5\n",
    "\n",
    "    data_era5 = xr.open_dataset(wind_era5)\n",
    "    \n",
    "    lat_era5 = data_era5['latitude'].values\n",
    "    lon_era5 = data_era5['longitude'].values-360\n",
    "    v10 = data_era5.variables['v10'].values\n",
    "    u10 = data_era5.variables['u10'].values\n",
    "    time = data_era5['time'].values\n",
    "    time_init = time[0]\n",
    "    time_end = time[-1]\n",
    "\n",
    "    point_wind_x = lon_era5[0]\n",
    "    point_wind_y = lat_era5[0]\n",
    "\n",
    "    ## Wind data every 3 hours \n",
    "    \n",
    "    time_s = pd.date_range(time_init,time_end, freq='1H')\n",
    "    time_era5 = time_s.format(formatter=lambda x: x.strftime('%Y%m%d.%H%M'))\n",
    "    \n",
    "    ####-- Extraindo Vento --####\n",
    "    \n",
    "    UU=[]\n",
    "    VV=[]\n",
    "        \n",
    "    #####-- Escrevendo Vento input SWAN em STRING --#####\n",
    "\n",
    "    wind_filename = wind_filename_output\n",
    "    \n",
    "    time_forecast = time_era5\n",
    "    \n",
    "    \n",
    "    file = open(wind_filename_output,'w')\n",
    "    for t in range(len(time_forecast)):\n",
    "        file.write(time_forecast[t])\n",
    "        file.write('''\n",
    "''')\n",
    "        file.close()\n",
    "        file = open(wind_filename_output,'a+')\n",
    "        file.write(pd.DataFrame(u10[t]).to_csv(index=False, header=False, na_rep=0, float_format='%7.3f'))\n",
    "        file.write(pd.DataFrame(v10[t]).to_csv(index=False, header=False, na_rep=0, float_format='%7.3f'))\n",
    "    \n",
    "    file = open(wind_filename_output,\"rt\")\n",
    "    data = file.read()\n",
    "    data = data.replace(',',' ')\n",
    "    file.close()\n",
    "    file = open(wind_filename_output,\"wt\")\n",
    "    file.write(data)\n",
    "    file.close()\n",
    "\n",
    "    \n",
    " \n",
    "    \n",
    "    return u10,v10,lat_era5,lon_era5"
   ]
  },
  {
   "cell_type": "code",
   "execution_count": 10,
   "metadata": {},
   "outputs": [],
   "source": []
  },
  {
   "cell_type": "code",
   "execution_count": null,
   "metadata": {},
   "outputs": [],
   "source": []
  },
  {
   "cell_type": "code",
   "execution_count": null,
   "metadata": {},
   "outputs": [],
   "source": [
    "\n"
   ]
  },
  {
   "cell_type": "code",
   "execution_count": 90,
   "metadata": {},
   "outputs": [],
   "source": []
  },
  {
   "cell_type": "code",
   "execution_count": null,
   "metadata": {},
   "outputs": [],
   "source": []
  },
  {
   "cell_type": "code",
   "execution_count": null,
   "metadata": {},
   "outputs": [],
   "source": []
  }
 ],
 "metadata": {
  "kernelspec": {
   "display_name": "Python [conda env:root] *",
   "language": "python",
   "name": "conda-root-py"
  },
  "language_info": {
   "codemirror_mode": {
    "name": "ipython",
    "version": 3
   },
   "file_extension": ".py",
   "mimetype": "text/x-python",
   "name": "python",
   "nbconvert_exporter": "python",
   "pygments_lexer": "ipython3",
   "version": "3.6.10"
  }
 },
 "nbformat": 4,
 "nbformat_minor": 4
}
