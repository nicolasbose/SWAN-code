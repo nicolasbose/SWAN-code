{
 "cells": [
  {
   "cell_type": "markdown",
   "metadata": {},
   "source": [
    "# Specs preparation for 40yrs hindcast "
   ]
  },
  {
   "cell_type": "code",
   "execution_count": 1,
   "metadata": {},
   "outputs": [
    {
     "name": "stderr",
     "output_type": "stream",
     "text": [
      "In /home/marilia/anaconda3/lib/python3.8/site-packages/matplotlib/mpl-data/stylelib/_classic_test.mplstyle: \n",
      "The text.latex.preview rcparam was deprecated in Matplotlib 3.3 and will be removed two minor releases later.\n",
      "In /home/marilia/anaconda3/lib/python3.8/site-packages/matplotlib/mpl-data/stylelib/_classic_test.mplstyle: \n",
      "The mathtext.fallback_to_cm rcparam was deprecated in Matplotlib 3.3 and will be removed two minor releases later.\n",
      "In /home/marilia/anaconda3/lib/python3.8/site-packages/matplotlib/mpl-data/stylelib/_classic_test.mplstyle: Support for setting the 'mathtext.fallback_to_cm' rcParam is deprecated since 3.3 and will be removed two minor releases later; use 'mathtext.fallback : 'cm' instead.\n",
      "In /home/marilia/anaconda3/lib/python3.8/site-packages/matplotlib/mpl-data/stylelib/_classic_test.mplstyle: \n",
      "The validate_bool_maybe_none function was deprecated in Matplotlib 3.3 and will be removed two minor releases later.\n",
      "In /home/marilia/anaconda3/lib/python3.8/site-packages/matplotlib/mpl-data/stylelib/_classic_test.mplstyle: \n",
      "The savefig.jpeg_quality rcparam was deprecated in Matplotlib 3.3 and will be removed two minor releases later.\n",
      "In /home/marilia/anaconda3/lib/python3.8/site-packages/matplotlib/mpl-data/stylelib/_classic_test.mplstyle: \n",
      "The keymap.all_axes rcparam was deprecated in Matplotlib 3.3 and will be removed two minor releases later.\n",
      "In /home/marilia/anaconda3/lib/python3.8/site-packages/matplotlib/mpl-data/stylelib/_classic_test.mplstyle: \n",
      "The animation.avconv_path rcparam was deprecated in Matplotlib 3.3 and will be removed two minor releases later.\n",
      "In /home/marilia/anaconda3/lib/python3.8/site-packages/matplotlib/mpl-data/stylelib/_classic_test.mplstyle: \n",
      "The animation.avconv_args rcparam was deprecated in Matplotlib 3.3 and will be removed two minor releases later.\n"
     ]
    }
   ],
   "source": [
    "import os\n",
    "#os.environ['PROJ_LIB'] = '/mnt/c/Users/maril/anaconda3/Library/share'\n",
    "#os.environ['PROJ_LIB'] = '/home/ceco/anaconda3/share/proj'\n",
    "import xarray as xr\n",
    "import datetime as dt\n",
    "import pandas as pd\n",
    "import numpy as np\n",
    "import matplotlib.pyplot as plt\n",
    "import numpy as np\n",
    "from scipy.spatial import ConvexHull\n",
    "from matplotlib.collections import PolyCollection\n",
    "#from mpl_toolkits.basemap import Basemap\n",
    "from mpl_toolkits.axes_grid1 import AxesGrid\n",
    "import glob\n",
    "from spec2d import *"
   ]
  },
  {
   "cell_type": "code",
   "execution_count": 2,
   "metadata": {},
   "outputs": [],
   "source": [
    "filepath_coords =  '/mnt/c/Users/maril/OneDrive/Documentos/_UFRGS/Mestrado/Dissert/malha_batimetria'\n",
    "filepath_wv = '/mnt/c/Users/maril/OneDrive/Documentos/_UFRGS/Mestrado/Dissert/datasets/csiro/csiro_corrigido/*'\n",
    "output_path = '/mnt/c/Users/maril/OneDrive/Documentos/_UFRGS/Mestrado/Dissert/specs/csiro_hindcast'\n",
    "\n",
    "dataset_dirs = sorted(glob.glob(filepath_wv))\n",
    "grid = 'grid_cartesiano_derefined_Marilia.xyz'\n",
    "\n",
    "part0c = ['hs0C', 'tp0', 'th0', 'si0']\n",
    "part1c = ['hs1C', 'tp1', 'th1', 'si1']\n",
    "part2c = ['hs2C', 'tp2', 'th2', 'si2']\n",
    "part3c = ['hs3C', 'tp3', 'th3', 'si3']\n",
    "\n",
    "part0 = ['hs0', 'tp0', 'th0', 'si0']\n",
    "part1 = ['hs1', 'tp1', 'th1', 'si1']\n",
    "part2 = ['hs2', 'tp2', 'th2', 'si2']\n",
    "part3 = ['hs3', 'tp3', 'th3', 'si3']\n",
    "\n",
    "parameters = part0 + part1 + part2 + part3\n",
    "parameters_c = part0c + part1c + part2c + part3c\n",
    "\n",
    "csiro_keys = ['CgE0', 'CgE1', 'CgE2', 'CgE3', 'CgE4', 'CgE5', 'hs0C', 'hs0', 'hs1C',\n",
    "              'hs1', 'hs2C', 'hs2', 'hs3C', 'hs3', 'hs4C', 'hs4', 'hs5C', 'hs5', 'th0',\n",
    "              'th1', 'th2', 'th3', 'th4', 'th5', 'tp0', 'tp1', 'tp2', 'tp3', 'tp4', 'tp5',\n",
    "              'si0', 'si1', 'si2', 'si3', 'si4', 'si5', 'longitude', 'latitude', 'hs_allC',\n",
    "              'hs_all', 'th_all', 'si_all', 'te_all', 'CgE_all']\n",
    "\n",
    "drop = [var for var in csiro_keys if var not in parameters]\n",
    "drop_c = [var for var in csiro_keys if var not in parameters_c]\n",
    "\n",
    "years = ['1981', '1982', '1983', '1984', '1985']\n",
    "output_filename = 'csiro'"
   ]
  },
  {
   "cell_type": "code",
   "execution_count": 3,
   "metadata": {},
   "outputs": [
    {
     "name": "stdout",
     "output_type": "stream",
     "text": [
      "20\n"
     ]
    },
    {
     "data": {
      "image/png": "[encoded data removed]",
      "text/plain": [
       "<Figure size 432x288 with 1 Axes>"
      ]
     },
     "metadata": {
      "needs_background": "light"
     },
     "output_type": "display_data"
    }
   ],
   "source": [
    "# Create coordinate vector\n",
    "\n",
    "from coord_points import *\n",
    "\n",
    "vert_NE = [-45.5, -26.5]\n",
    "vert_NW = [-49.5, -24]\n",
    "vert_SE = [-51, -36.5]\n",
    "vert_SW = [-55, -34]\n",
    "\n",
    "coords_north = coord_points(vert_NW, vert_NE, 0.5)\n",
    "coords_east = coord_points(vert_SE, vert_NE, 0.5).tolist()\n",
    "coords_east.sort(reverse=True)\n",
    "coords_east = np.array(coords_east)\n",
    "coords_south = coord_points(vert_SW, vert_SE, 0.5).tolist()\n",
    "coords_south.sort(reverse=True)\n",
    "coords_south = np.array(coords_south)\n",
    "\n",
    "\n",
    "coords = np.vstack((coords_north, coords_east, coords_south))\n",
    "\n",
    "coords = coords + [360, 0]\n",
    "\n",
    "coords = coords[4:-3]\n",
    "\n",
    "print(len(coords))\n",
    "\n",
    "plt.scatter(coords[:, [0]], coords[:, [1]])\n",
    "\n",
    "plt.show()"
   ]
  },
  {
   "cell_type": "markdown",
   "metadata": {},
   "source": [
    "## Create wave spectra from wave parameters"
   ]
  },
  {
   "cell_type": "code",
   "execution_count": 4,
   "metadata": {
    "scrolled": true
   },
   "outputs": [
    {
     "name": "stdout",
     "output_type": "stream",
     "text": [
      "(3, 8760, 25, 36)\n",
      "(3, 8760, 25, 36)\n",
      "(3, 8760, 25, 36)\n",
      "(3, 8760, 25, 36)\n",
      "(15, 8760, 25, 36)\n",
      "(15, 8760, 25, 36)\n",
      "(15, 8760, 25, 36)\n",
      "(15, 8760, 25, 36)\n",
      "(2, 8760, 25, 36)\n",
      "(2, 8760, 25, 36)\n",
      "(2, 8760, 25, 36)\n",
      "(2, 8760, 25, 36)\n",
      "Successfully created the directory /mnt/c/Users/maril/OneDrive/Documentos/_UFRGS/Mestrado/Dissert/specs/csiro_hindcast/specs1981\n",
      "(3, 8760, 25, 36)\n",
      "(3, 8760, 25, 36)\n",
      "(3, 8760, 25, 36)\n",
      "(3, 8760, 25, 36)\n",
      "(15, 8760, 25, 36)\n",
      "(15, 8760, 25, 36)\n",
      "(15, 8760, 25, 36)\n",
      "(15, 8760, 25, 36)\n",
      "(2, 8760, 25, 36)\n",
      "(2, 8760, 25, 36)\n",
      "(2, 8760, 25, 36)\n",
      "(2, 8760, 25, 36)\n",
      "Successfully created the directory /mnt/c/Users/maril/OneDrive/Documentos/_UFRGS/Mestrado/Dissert/specs/csiro_hindcast/specs1982\n",
      "(3, 8760, 25, 36)\n",
      "(3, 8760, 25, 36)\n",
      "(3, 8760, 25, 36)\n",
      "(3, 8760, 25, 36)\n",
      "(15, 8760, 25, 36)\n",
      "(15, 8760, 25, 36)\n",
      "(15, 8760, 25, 36)\n",
      "(15, 8760, 25, 36)\n",
      "(2, 8760, 25, 36)\n",
      "(2, 8760, 25, 36)\n",
      "(2, 8760, 25, 36)\n",
      "(2, 8760, 25, 36)\n",
      "Successfully created the directory /mnt/c/Users/maril/OneDrive/Documentos/_UFRGS/Mestrado/Dissert/specs/csiro_hindcast/specs1983\n",
      "(3, 8784, 25, 36)\n",
      "(3, 8784, 25, 36)\n",
      "(3, 8784, 25, 36)\n",
      "(3, 8784, 25, 36)\n",
      "(15, 8784, 25, 36)\n",
      "(15, 8784, 25, 36)\n",
      "(15, 8784, 25, 36)\n",
      "(15, 8784, 25, 36)\n",
      "(2, 8784, 25, 36)\n",
      "(2, 8784, 25, 36)\n",
      "(2, 8784, 25, 36)\n",
      "(2, 8784, 25, 36)\n",
      "Successfully created the directory /mnt/c/Users/maril/OneDrive/Documentos/_UFRGS/Mestrado/Dissert/specs/csiro_hindcast/specs1984\n",
      "(3, 8760, 25, 36)\n",
      "(3, 8760, 25, 36)\n",
      "(3, 8760, 25, 36)\n",
      "(3, 8760, 25, 36)\n",
      "(15, 8760, 25, 36)\n",
      "(15, 8760, 25, 36)\n",
      "(15, 8760, 25, 36)\n",
      "(15, 8760, 25, 36)\n",
      "(2, 8760, 25, 36)\n",
      "(2, 8760, 25, 36)\n",
      "(2, 8760, 25, 36)\n",
      "(2, 8760, 25, 36)\n",
      "Successfully created the directory /mnt/c/Users/maril/OneDrive/Documentos/_UFRGS/Mestrado/Dissert/specs/csiro_hindcast/specs1985\n"
     ]
    },
    {
     "ename": "PermissionError",
     "evalue": "[Errno 13] Permission denied: 'specs_csiro6.bnd'",
     "output_type": "error",
     "traceback": [
      "\u001b[0;31m---------------------------------------------------------------------------\u001b[0m",
      "\u001b[0;31mPermissionError\u001b[0m                           Traceback (most recent call last)",
      "\u001b[0;32m<ipython-input-4-36c1a39de388>\u001b[0m in \u001b[0;36m<module>\u001b[0;34m\u001b[0m\n\u001b[1;32m     48\u001b[0m                          freq='H')\n\u001b[1;32m     49\u001b[0m \u001b[0;34m\u001b[0m\u001b[0m\n\u001b[0;32m---> 50\u001b[0;31m     \u001b[0mwrite_specs\u001b[0m\u001b[0;34m(\u001b[0m\u001b[0mtime\u001b[0m\u001b[0;34m,\u001b[0m \u001b[0mcoords\u001b[0m\u001b[0;34m,\u001b[0m \u001b[0mspecs\u001b[0m\u001b[0;34m,\u001b[0m \u001b[0moutput_filename\u001b[0m\u001b[0;34m)\u001b[0m\u001b[0;34m\u001b[0m\u001b[0;34m\u001b[0m\u001b[0m\n\u001b[0m",
      "\u001b[0;32m/mnt/c/Users/maril/OneDrive/Documentos/_UFRGS/Mestrado/Dissert/rotinas/spec2d.py\u001b[0m in \u001b[0;36mwrite_specs\u001b[0;34m(time, coords, specs, output_filename, ext)\u001b[0m\n\u001b[1;32m    677\u001b[0m         \u001b[0mfin\u001b[0m\u001b[0;34m.\u001b[0m\u001b[0mclose\u001b[0m\u001b[0;34m(\u001b[0m\u001b[0;34m)\u001b[0m\u001b[0;34m\u001b[0m\u001b[0;34m\u001b[0m\u001b[0m\n\u001b[1;32m    678\u001b[0m \u001b[0;34m\u001b[0m\u001b[0m\n\u001b[0;32m--> 679\u001b[0;31m         \u001b[0mfin\u001b[0m \u001b[0;34m=\u001b[0m \u001b[0mopen\u001b[0m\u001b[0;34m(\u001b[0m\u001b[0;34m'specs_'\u001b[0m \u001b[0;34m+\u001b[0m \u001b[0moutput_filename\u001b[0m \u001b[0;34m+\u001b[0m \u001b[0mstr\u001b[0m\u001b[0;34m(\u001b[0m\u001b[0mloc\u001b[0m\u001b[0;34m+\u001b[0m\u001b[0;36m1\u001b[0m\u001b[0;34m)\u001b[0m \u001b[0;34m+\u001b[0m \u001b[0mstr\u001b[0m\u001b[0;34m(\u001b[0m\u001b[0mext\u001b[0m\u001b[0;34m)\u001b[0m\u001b[0;34m,\u001b[0m \u001b[0;34m\"wt\"\u001b[0m\u001b[0;34m)\u001b[0m\u001b[0;34m\u001b[0m\u001b[0;34m\u001b[0m\u001b[0m\n\u001b[0m\u001b[1;32m    680\u001b[0m         \u001b[0mfin\u001b[0m\u001b[0;34m.\u001b[0m\u001b[0mwrite\u001b[0m\u001b[0;34m(\u001b[0m\u001b[0mdata\u001b[0m\u001b[0;34m)\u001b[0m\u001b[0;34m\u001b[0m\u001b[0;34m\u001b[0m\u001b[0m\n\u001b[1;32m    681\u001b[0m         \u001b[0mfin\u001b[0m\u001b[0;34m.\u001b[0m\u001b[0mclose\u001b[0m\u001b[0;34m(\u001b[0m\u001b[0;34m)\u001b[0m\u001b[0;34m\u001b[0m\u001b[0;34m\u001b[0m\u001b[0m\n",
      "\u001b[0;31mPermissionError\u001b[0m: [Errno 13] Permission denied: 'specs_csiro6.bnd'"
     ]
    }
   ],
   "source": [
    "from spec2d import *\n",
    "\n",
    "for year in years:\n",
    "    \n",
    "    os.chdir(output_path)\n",
    "    \n",
    "    spec_part0 = spec_points_satellite(coords[:3], part0, year, dataset_dirs[:3], drop)\n",
    "    spec_part1 = spec_points_satellite(coords[:3], part1, year, dataset_dirs[:3], drop)\n",
    "    spec_part2 = spec_points_satellite(coords[:3], part2, year, dataset_dirs[:3], drop)\n",
    "    spec_part3 = spec_points_satellite(coords[:3], part3, year, dataset_dirs[:3], drop)\n",
    "    \n",
    "    specs1 = (spec_part0 + spec_part1 + spec_part2 + spec_part3)\n",
    "    \n",
    "    spec_part0 = spec_points_satellite(coords[3:-2], part0c, year, dataset_dirs[3:-2], drop_c)\n",
    "    spec_part1 = spec_points_satellite(coords[3:-2], part1c, year, dataset_dirs[3:-2], drop_c)\n",
    "    spec_part2 = spec_points_satellite(coords[3:-2], part2c, year, dataset_dirs[3:-2], drop_c)\n",
    "    spec_part3 = spec_points_satellite(coords[3:-2], part3c, year, dataset_dirs[3:-2], drop_c)\n",
    "    \n",
    "    specs2 = (spec_part0 + spec_part1 + spec_part2 + spec_part3)\n",
    "\n",
    "    spec_part0 = spec_points_satellite(coords[-2:], part0, year, dataset_dirs[-2:], drop)\n",
    "    spec_part1 = spec_points_satellite(coords[-2:], part1, year, dataset_dirs[-2:], drop)\n",
    "    spec_part2 = spec_points_satellite(coords[-2:], part2, year, dataset_dirs[-2:], drop)\n",
    "    spec_part3 = spec_points_satellite(coords[-2:], part3, year, dataset_dirs[-2:], drop)\n",
    "        \n",
    "    specs3 = (spec_part0 + spec_part1 + spec_part2 + spec_part3)\n",
    "    \n",
    "    specs = np.vstack((specs1, specs2, specs3))\n",
    "\n",
    "    path = f'{output_path}/specs{year}'\n",
    "    try:\n",
    "        os.makedirs(path)\n",
    "    except OSError:\n",
    "        print (\"Creation of the directory %s failed\" % path)\n",
    "    else:\n",
    "        print (\"Successfully created the directory %s\" % path)\n",
    "\n",
    "    os.chdir(path)\n",
    "\n",
    "    np.save(f'specs_{year}.npy', specs)\n",
    "\n",
    "    #specs = np.load(f'specs_{year}.npy')\n",
    "\n",
    "    # Write specs to .bnd\n",
    "\n",
    "    time = pd.date_range(start=f'{year}-01-01',\n",
    "                         end=f'{year}-12-31T23:00:00',\n",
    "                         freq='H')\n",
    "\n",
    "    write_specs(time, coords, specs, output_filename)"
   ]
  },
  {
   "cell_type": "code",
   "execution_count": null,
   "metadata": {},
   "outputs": [],
   "source": []
  }
 ],
 "metadata": {
  "kernelspec": {
   "display_name": "Python 3",
   "language": "python",
   "name": "python3"
  },
  "language_info": {
   "codemirror_mode": {
    "name": "ipython",
    "version": 3
   },
   "file_extension": ".py",
   "mimetype": "text/x-python",
   "name": "python",
   "nbconvert_exporter": "python",
   "pygments_lexer": "ipython3",
   "version": "3.6.10"
  }
 },
 "nbformat": 4,
 "nbformat_minor": 4
}
